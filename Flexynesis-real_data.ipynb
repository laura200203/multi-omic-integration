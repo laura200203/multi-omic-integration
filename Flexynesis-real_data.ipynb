{
 "cells": [
  {
   "cell_type": "code",
   "execution_count": 1,
   "id": "3593f332-4f2d-48ae-8682-38c99ab25e8f",
   "metadata": {},
   "outputs": [],
   "source": [
    "import sys\n",
    "sys.path.append(r\"C:\\Users\\laura\\OneDrive - Imperial College London\\project 2\\Coding\\New models\\package\\flexynesis\")"
   ]
  },
  {
   "cell_type": "code",
   "execution_count": 3,
   "id": "00a9a8ec-f42a-450a-9600-d5d26be48ddd",
   "metadata": {},
   "outputs": [
    {
     "name": "stderr",
     "output_type": "stream",
     "text": [
      "Seed set to 42\n"
     ]
    }
   ],
   "source": [
    "import os\n",
    "os.environ[\"OMP_NUM_THREADS\"] = \"1\"\n",
    "import flexynesis\n",
    "import torch\n",
    "torch.set_num_threads(4)"
   ]
  },
  {
   "cell_type": "code",
   "execution_count": 4,
   "id": "e0aa2bd8-4a7e-4066-a789-35d884a8e44f",
   "metadata": {},
   "outputs": [],
   "source": [
    "# parameters cell (required to pass arguments to the notebook) (see View -> show right sidebar -> add tag -> parameters)\n",
    "HPO_ITER = 1 # number of HPO iterations for final modeling run"
   ]
  },
  {
   "cell_type": "markdown",
   "id": "650066aa-f40d-4e3e-8821-e8e9c1a482ea",
   "metadata": {},
   "source": [
    "# data import and feature selection\n",
    "import ==> folder;\n",
    "data cleaning ==> exclude 方差太小的特征，imputation, exclude the feature with too many 缺失\n",
    "select_features ==> unsupervised，laplacian score low, highly similar features(person>0.9, optional) are deleted\n",
    "transformation==> standardize(z-score) / min_max\n",
    " 或 'gene_id'，取决于你的数据格式"
   ]
  },
  {
   "cell_type": "code",
   "execution_count": 7,
   "id": "eb046e36-4fda-478e-8683-b7d2b9548a5f",
   "metadata": {},
   "outputs": [
    {
     "name": "stdout",
     "output_type": "stream",
     "text": [
      "Unmatched SEX values: 0\n",
      "Unmatched DIAB values: 0\n",
      "HDF shape: (282, 904)\n",
      "LD shape: (282, 1149)\n",
      "PM shape: (282, 501)\n",
      "BM shape: (282, 161)\n",
      "train HDF shape: (197, 904)\n",
      "test HDF shape: (85, 904)\n",
      "train y_dm shape (197,)\n",
      "test y_dm shape: (85,)\n",
      "LD_train shape: (197, 1149)\n",
      "LD_test shape: (85, 1149)\n",
      "PM_train shape: (197, 501)\n",
      "PM_test shape: (85, 501)\n",
      "BM_train shape: (197, 161)\n",
      "BM_test shape: (85, 161)\n",
      "Y_train shape: (197,)\n",
      "Y_test shape: (85,)\n"
     ]
    }
   ],
   "source": [
    "# real data organize\n",
    "\n",
    "# data prepare\n",
    "# data import LCMS, HDF\n",
    "\n",
    "import pandas as pd\n",
    "import numpy as np\n",
    "from sklearn.model_selection import train_test_split\n",
    "from matplotlib import pyplot as plt\n",
    "import warnings\n",
    "warnings.filterwarnings(\"ignore\")\n",
    "import os\n",
    "from sklearn.metrics import accuracy_score, precision_score, recall_score, f1_score, roc_auc_score, confusion_matrix\n",
    "import seaborn as sns\n",
    "\n",
    "\n",
    "# 1. 指定存放原始与新文件的文件夹\n",
    "load_path = r\"C:\\Users\\laura\\OneDrive - Imperial College London\\project 2\\Yuting Project - Machine Learning Driven Integration - shared folder\\data\\preprocessed data\"\n",
    "\n",
    "# 3. after sample alignment\n",
    "HDF = pd.read_csv(os.path.join(load_path, \"S_HDF.csv\"), index_col=0)\n",
    "LD  = pd.read_csv(os.path.join(load_path, \"S_LD.csv\"),  index_col=0)\n",
    "PM  = pd.read_csv(os.path.join(load_path, \"S_PM.csv\"),  index_col=0)\n",
    "BM  = pd.read_csv(os.path.join(load_path, \"S_BM.csv\"),  index_col=0)\n",
    "\n",
    "# metadata import\n",
    "# female=1, male=0\n",
    "# diabetic=1, nondiabetic=0\n",
    "metadata = pd.read_excel(r\"C:\\Users\\laura\\OneDrive - Imperial College London\\project 2\\sample data.xlsx\")\n",
    "\n",
    "metadata['SampleId'] = metadata['SampleId'].astype(int)\n",
    "HDF.index = HDF.index.astype(int)\n",
    "\n",
    "merged_df = HDF.merge(\n",
    "    metadata[['SampleId', 'SEX', 'DIAB', 'AGE', 'BMI']],\n",
    "    left_index=True,\n",
    "    right_on='SampleId'\n",
    ")\n",
    "\n",
    "merged_df['SEX_num'] = merged_df['SEX'].str.strip().str.lower().map({'female': 1, 'male': 0})\n",
    "merged_df['DIAB_num'] = merged_df['DIAB'].str.strip().str.lower().map({'diabetic': 1, 'non-diabetic': 0})\n",
    "print(\"Unmatched SEX values:\", merged_df['SEX_num'].isna().sum())\n",
    "print(\"Unmatched DIAB values:\", merged_df['DIAB_num'].isna().sum())\n",
    "\n",
    "y_dm = merged_df['DIAB_num']# diabetic=1, nondiabetic=0\n",
    "\n",
    "# index alignment check\n",
    "print(f\"HDF shape: {HDF.shape}\")\n",
    "print(f\"LD shape: {LD.shape}\")\n",
    "print(f\"PM shape: {PM.shape}\")\n",
    "print(f\"BM shape: {BM.shape}\")\n",
    "\n",
    "\n",
    "# Train-test split\n",
    "y_dm.index = HDF.index\n",
    "HDF_train, HDF_test, y_train, y_test = train_test_split(HDF, y_dm, test_size=0.3, random_state=42)\n",
    "# Split LD, PM, BM using the same indices as HDF\n",
    "LD_train = LD.loc[HDF_train.index]\n",
    "LD_test  = LD.loc[HDF_test.index]\n",
    "\n",
    "PM_train = PM.loc[HDF_train.index]\n",
    "PM_test  = PM.loc[HDF_test.index]\n",
    "\n",
    "BM_train = BM.loc[HDF_train.index]\n",
    "BM_test  = BM.loc[HDF_test.index]\n",
    "\n",
    "Y_train = y_dm.loc[HDF_train.index]\n",
    "Y_test  = y_dm.loc[HDF_test.index]\n",
    "\n",
    "print(\"train HDF shape:\", HDF_train.shape)\n",
    "print(\"test HDF shape:\", HDF_test.shape)\n",
    "print(\"train y_dm shape\", y_train.shape)\n",
    "print(\"test y_dm shape:\", y_test.shape)\n",
    "print(\"LD_train shape:\", LD_train.shape)\n",
    "print(\"LD_test shape:\", LD_test.shape)\n",
    "print(\"PM_train shape:\", PM_train.shape)\n",
    "print(\"PM_test shape:\", PM_test.shape)\n",
    "print(\"BM_train shape:\", BM_train.shape)\n",
    "print(\"BM_test shape:\", BM_test.shape)\n",
    "print(\"Y_train shape:\", Y_train.shape)\n",
    "print(\"Y_test shape:\", Y_test.shape)"
   ]
  },
  {
   "cell_type": "code",
   "execution_count": 9,
   "id": "76302eb9-acd4-41fa-9ae0-62851e61d97a",
   "metadata": {},
   "outputs": [
    {
     "name": "stdout",
     "output_type": "stream",
     "text": [
      " 所有文件已保存完毕，样本ID加后缀，特征名加前缀，索引正确保存。\n"
     ]
    }
   ],
   "source": [
    "import os\n",
    "\n",
    "base_path = r\"C:\\Users\\laura\\OneDrive - Imperial College London\\project 2\\Coding\\New models\\package\\flexynesis\\dataset_DM1\"\n",
    "\n",
    "train_path = os.path.join(base_path, \"train\")\n",
    "test_path = os.path.join(base_path, \"test\")\n",
    "os.makedirs(train_path, exist_ok=True)\n",
    "os.makedirs(test_path, exist_ok=True)\n",
    "\n",
    "# 训练集保存函数\n",
    "def save_train(df, suffix, filename):\n",
    "    df.columns = df.columns.astype(str) + f\"_{suffix}\"        # 样本ID加后缀\n",
    "    df.index = df.index.astype(str).map(lambda x: \"ID_\" + x)  # 特征名加前缀\n",
    "    df_t = df.T\n",
    "    # 直接保存，保持行索引（样本ID）为CSV的索引\n",
    "    df_t.to_csv(os.path.join(train_path, f\"{filename}.csv\"), index=True)\n",
    "\n",
    "# 测试集保存函数\n",
    "def save_test(df, suffix, filename):\n",
    "    df.columns = df.columns.astype(str) + f\"_{suffix}\"\n",
    "    df.index = df.index.astype(str).map(lambda x: \"ID_\" + x)\n",
    "    df_t = df.T\n",
    "    df_t.to_csv(os.path.join(test_path, f\"{filename}.csv\"), index=True)\n",
    "\n",
    "# 临床训练数据保存\n",
    "def save_clinical_train(series, filename):\n",
    "    series = series.replace({0: 'nonDM', 1: 'DM'})\n",
    "    df = series.to_frame(name='clin')\n",
    "    df.index = df.index.astype(str).map(lambda x: \"ID_\" + x)\n",
    "    df.to_csv(os.path.join(train_path, f\"{filename}.csv\"), index=True)\n",
    "\n",
    "# 临床测试数据保存\n",
    "def save_clinical_test(series, filename):\n",
    "    series = series.replace({0: 'nonDM', 1: 'DM'})\n",
    "    df = series.to_frame(name='clin')\n",
    "    df.index = df.index.astype(str).map(lambda x: \"ID_\" + x)\n",
    "    df.to_csv(os.path.join(test_path, f\"{filename}.csv\"), index=True)\n",
    "\n",
    "\n",
    "# 保存训练集\n",
    "save_train(LD_train, \"LD\", \"LD\")\n",
    "save_train(PM_train, \"PM\", \"PM\")\n",
    "save_train(BM_train, \"BM\", \"BM\")\n",
    "save_train(HDF_train, \"HDF\", \"HDF\")\n",
    "save_clinical_train(Y_train, \"clin\")\n",
    "\n",
    "# 保存测试集\n",
    "save_test(LD_test, \"LD\", \"LD\")\n",
    "save_test(PM_test, \"PM\", \"PM\")\n",
    "save_test(BM_test, \"BM\", \"BM\")\n",
    "save_test(HDF_test, \"HDF\", \"HDF\")\n",
    "save_clinical_test(Y_test, \"clin\")\n",
    "\n",
    "print(\" 所有文件已保存完毕，样本ID加后缀，特征名加前缀，索引正确保存。\")\n"
   ]
  },
  {
   "cell_type": "code",
   "execution_count": 11,
   "id": "76ce6387-53ab-4ab9-9960-02e05fb80c7e",
   "metadata": {},
   "outputs": [],
   "source": [
    "import pandas as pd\n",
    "import os\n",
    "\n",
    "base_path = r\"C:\\Users\\laura\\OneDrive - Imperial College London\\project 2\\Coding\\New models\\package\\flexynesis\\dataset_DM1\"\n",
    "train_path = os.path.join(base_path, \"train\")\n",
    "test_path = os.path.join(base_path, \"test\")\n",
    "\n",
    "# 文件列表和对应变量名\n",
    "file_varnames = [\"LD\", \"PM\", \"BM\", \"HDF\", \"clin\"]\n",
    "\n",
    "# 读取训练集\n",
    "for name in file_varnames:\n",
    "    path = os.path.join(train_path, f\"{name}.csv\")\n",
    "    if name == \"clin\":\n",
    "        globals()[f\"{name}_train\"] = pd.read_csv(path, index_col=0)\n",
    "    else:\n",
    "        globals()[f\"{name}_train\"] = pd.read_csv(path)\n",
    "\n",
    "# 读取测试集\n",
    "for name in file_varnames:\n",
    "    path = os.path.join(test_path, f\"{name}.csv\")\n",
    "    if name == \"clin\":\n",
    "        globals()[f\"{name}_test\"] = pd.read_csv(path, index_col=0)\n",
    "    else:\n",
    "        globals()[f\"{name}_test\"] = pd.read_csv(path)\n"
   ]
  },
  {
   "cell_type": "code",
   "execution_count": 13,
   "id": "d14c4588-4550-4b72-aa95-1bf640442643",
   "metadata": {},
   "outputs": [
    {
     "data": {
      "text/html": [
       "<div>\n",
       "<style scoped>\n",
       "    .dataframe tbody tr th:only-of-type {\n",
       "        vertical-align: middle;\n",
       "    }\n",
       "\n",
       "    .dataframe tbody tr th {\n",
       "        vertical-align: top;\n",
       "    }\n",
       "\n",
       "    .dataframe thead th {\n",
       "        text-align: right;\n",
       "    }\n",
       "</style>\n",
       "<table border=\"1\" class=\"dataframe\">\n",
       "  <thead>\n",
       "    <tr style=\"text-align: right;\">\n",
       "      <th></th>\n",
       "      <th>clin</th>\n",
       "    </tr>\n",
       "  </thead>\n",
       "  <tbody>\n",
       "    <tr>\n",
       "      <th>ID_225</th>\n",
       "      <td>nonDM</td>\n",
       "    </tr>\n",
       "    <tr>\n",
       "      <th>ID_68</th>\n",
       "      <td>nonDM</td>\n",
       "    </tr>\n",
       "    <tr>\n",
       "      <th>ID_138</th>\n",
       "      <td>DM</td>\n",
       "    </tr>\n",
       "    <tr>\n",
       "      <th>ID_282</th>\n",
       "      <td>DM</td>\n",
       "    </tr>\n",
       "    <tr>\n",
       "      <th>ID_50</th>\n",
       "      <td>nonDM</td>\n",
       "    </tr>\n",
       "    <tr>\n",
       "      <th>...</th>\n",
       "      <td>...</td>\n",
       "    </tr>\n",
       "    <tr>\n",
       "      <th>ID_240</th>\n",
       "      <td>nonDM</td>\n",
       "    </tr>\n",
       "    <tr>\n",
       "      <th>ID_88</th>\n",
       "      <td>DM</td>\n",
       "    </tr>\n",
       "    <tr>\n",
       "      <th>ID_133</th>\n",
       "      <td>DM</td>\n",
       "    </tr>\n",
       "    <tr>\n",
       "      <th>ID_360</th>\n",
       "      <td>DM</td>\n",
       "    </tr>\n",
       "    <tr>\n",
       "      <th>ID_127</th>\n",
       "      <td>DM</td>\n",
       "    </tr>\n",
       "  </tbody>\n",
       "</table>\n",
       "<p>197 rows × 1 columns</p>\n",
       "</div>"
      ],
      "text/plain": [
       "         clin\n",
       "ID_225  nonDM\n",
       "ID_68   nonDM\n",
       "ID_138     DM\n",
       "ID_282     DM\n",
       "ID_50   nonDM\n",
       "...       ...\n",
       "ID_240  nonDM\n",
       "ID_88      DM\n",
       "ID_133     DM\n",
       "ID_360     DM\n",
       "ID_127     DM\n",
       "\n",
       "[197 rows x 1 columns]"
      ]
     },
     "execution_count": 13,
     "metadata": {},
     "output_type": "execute_result"
    }
   ],
   "source": [
    "clin_train"
   ]
  },
  {
   "cell_type": "code",
   "execution_count": 15,
   "id": "63784fa9-9455-4bf6-b03c-cf3564f21fe0",
   "metadata": {
    "scrolled": true
   },
   "outputs": [
    {
     "name": "stdout",
     "output_type": "stream",
     "text": [
      "C:\\Users\\laura\\OneDrive - Imperial College London\\project 2\\Coding\\New models\\package\\flexynesis\\flexynesis\\data.py\n",
      "\n",
      "[INFO] ================= Importing Data =================\n",
      "[INFO] Validating data folders...\n",
      "\n",
      "[INFO] ----------------- Reading Data ----------------- \n",
      "[INFO] Importing C:\\Users\\laura\\OneDrive - Imperial College London\\project 2\\Coding\\New models\\package\\flexynesis\\dataset_DM1\\train\\LD.csv...\n",
      "[INFO] Importing C:\\Users\\laura\\OneDrive - Imperial College London\\project 2\\Coding\\New models\\package\\flexynesis\\dataset_DM1\\train\\PM.csv...\n",
      "[INFO] Importing C:\\Users\\laura\\OneDrive - Imperial College London\\project 2\\Coding\\New models\\package\\flexynesis\\dataset_DM1\\train\\clin.csv...\n",
      "[INFO] Importing C:\\Users\\laura\\OneDrive - Imperial College London\\project 2\\Coding\\New models\\package\\flexynesis\\dataset_DM1\\train\\HDF.csv...\n",
      "[INFO] Importing C:\\Users\\laura\\OneDrive - Imperial College London\\project 2\\Coding\\New models\\package\\flexynesis\\dataset_DM1\\train\\BM.csv...\n",
      "\n",
      "[INFO] ----------------- Reading Data ----------------- \n",
      "[INFO] Importing C:\\Users\\laura\\OneDrive - Imperial College London\\project 2\\Coding\\New models\\package\\flexynesis\\dataset_DM1\\test\\LD.csv...\n",
      "[INFO] Importing C:\\Users\\laura\\OneDrive - Imperial College London\\project 2\\Coding\\New models\\package\\flexynesis\\dataset_DM1\\test\\PM.csv...\n",
      "[INFO] Importing C:\\Users\\laura\\OneDrive - Imperial College London\\project 2\\Coding\\New models\\package\\flexynesis\\dataset_DM1\\test\\clin.csv...\n",
      "[INFO] Importing C:\\Users\\laura\\OneDrive - Imperial College London\\project 2\\Coding\\New models\\package\\flexynesis\\dataset_DM1\\test\\HDF.csv...\n",
      "[INFO] Importing C:\\Users\\laura\\OneDrive - Imperial College London\\project 2\\Coding\\New models\\package\\flexynesis\\dataset_DM1\\test\\BM.csv...\n",
      "\n",
      "[INFO] ----------------- Checking for problems with the input data ----------------- \n",
      "[INFO] Data structure is valid with no errors or warnings.\n",
      "\n",
      "[INFO] ----------------- Processing Data (train) ----------------- \n",
      "\n",
      "[INFO] ----------------- Cleaning Up Data ----------------- \n",
      "\n",
      "[INFO] working on layer:  LD\n",
      "[INFO] Number of NA values:  0\n",
      "[INFO] DataFrame LD - Removed 0 features.\n",
      "\n",
      "[INFO] working on layer:  PM\n",
      "[INFO] Number of NA values:  0\n",
      "[INFO] DataFrame PM - Removed 0 features.\n",
      "\n",
      "[INFO] working on layer:  BM\n",
      "[INFO] Number of NA values:  0\n",
      "[INFO] DataFrame BM - Removed 0 features.\n",
      "\n",
      "[INFO] working on layer:  HDF\n",
      "[INFO] Number of NA values:  0\n",
      "[INFO] DataFrame HDF - Removed 0 features.\n",
      "[INFO] DataFrame LD - Removed 0 samples (0.00%).\n",
      "[INFO] DataFrame PM - Removed 0 samples (0.00%).\n",
      "[INFO] DataFrame BM - Removed 0 samples (0.00%).\n",
      "[INFO] DataFrame HDF - Removed 0 samples (0.00%).\n",
      "[INFO] Implementing feature selection using laplacian score for layer: LD with  1149 features  and  197  samples \n",
      "[INFO] No feature selection applied. Returning original matrix. Demanded # of features is  larger than existing number of features\n",
      "[INFO] Implementing feature selection using laplacian score for layer: PM with  501 features  and  197  samples \n",
      "[INFO] No feature selection applied. Returning original matrix. Demanded # of features is  larger than existing number of features\n",
      "[INFO] Implementing feature selection using laplacian score for layer: BM with  161 features  and  197  samples \n",
      "[INFO] No feature selection applied. Returning original matrix. Demanded # of features is  larger than existing number of features\n",
      "[INFO] Implementing feature selection using laplacian score for layer: HDF with  904 features  and  197  samples \n",
      "[INFO] No feature selection applied. Returning original matrix. Demanded # of features is  larger than existing number of features\n",
      "\n",
      "[INFO] ----------------- Processing Data (test) ----------------- \n",
      "\n",
      "[INFO] ----------------- Cleaning Up Data ----------------- \n",
      "\n",
      "[INFO] working on layer:  LD\n",
      "[INFO] Number of NA values:  0\n",
      "[INFO] DataFrame LD - Removed 0 features.\n",
      "\n",
      "[INFO] working on layer:  PM\n",
      "[INFO] Number of NA values:  0\n",
      "[INFO] DataFrame PM - Removed 0 features.\n",
      "\n",
      "[INFO] working on layer:  BM\n",
      "[INFO] Number of NA values:  0\n",
      "[INFO] DataFrame BM - Removed 0 features.\n",
      "\n",
      "[INFO] working on layer:  HDF\n",
      "[INFO] Number of NA values:  0\n",
      "[INFO] DataFrame HDF - Removed 0 features.\n",
      "[INFO] DataFrame LD - Removed 0 samples (0.00%).\n",
      "[INFO] DataFrame PM - Removed 0 samples (0.00%).\n",
      "[INFO] DataFrame BM - Removed 0 samples (0.00%).\n",
      "[INFO] DataFrame HDF - Removed 0 samples (0.00%).\n",
      "\n",
      "[INFO] ----------------- Harmonizing Data Sets ----------------- \n",
      "\n",
      "[INFO] ----------------- Finished Harmonizing ----------------- \n",
      "\n",
      "[INFO] ----------------- Normalizing Data ----------------- \n",
      "Skipping normalization as scaler_type is None\n",
      "\n",
      "[INFO] ----------------- Normalizing Data ----------------- \n",
      "Skipping normalization as scaler_type is None\n",
      "[INFO] Training Data Stats:  {'feature_count in: LD': 1149, 'feature_count in: BM': 161, 'feature_count in: PM': 501, 'feature_count in: HDF': 904, 'sample_count': 197}\n",
      "[INFO] Test Data Stats:  {'feature_count in: LD': 1149, 'feature_count in: BM': 161, 'feature_count in: PM': 501, 'feature_count in: HDF': 904, 'sample_count': 85}\n",
      "[INFO] Merging Feature Logs...\n",
      "[INFO] Data import successful.\n"
     ]
    }
   ],
   "source": [
    "import inspect\n",
    "from flexynesis import DataImporter\n",
    "\n",
    "print(inspect.getfile(DataImporter))\n",
    "\n",
    "from flexynesis import DataImporter\n",
    "\n",
    "data_importer = DataImporter(\n",
    "    path=r\"C:\\Users\\laura\\OneDrive - Imperial College London\\project 2\\Coding\\New models\\package\\flexynesis\\dataset_DM1\",\n",
    "    data_types=['LD', 'PM', 'BM', 'HDF'],  # 四个数据集的名称，要和文件名对应\n",
    "    concatenate=False,  # 根据你需求决定是否合并特征，通常False\n",
    "    top_percentile=100,  # Laplacian选出前10%特征\n",
    "    min_features=100,   # 至少保留100个特征\n",
    "    variance_threshold=0.0,  # 80%的方差阈值\n",
    "    # correlation_threshold=0.9,  # 如果需要可以打开\n",
    ")\n",
    "\n",
    "train_dataset, test_dataset = data_importer.import_data()\n",
    "\n"
   ]
  },
  {
   "cell_type": "markdown",
   "id": "f22ca9f6-edf5-40a9-8e3c-7ecaa449d125",
   "metadata": {},
   "source": [
    "# How does the data looks like in flexynesis dataset"
   ]
  },
  {
   "cell_type": "code",
   "execution_count": 18,
   "id": "97cf8b06-809c-4bf0-9b27-98ca9905fa8c",
   "metadata": {
    "scrolled": true
   },
   "outputs": [
    {
     "name": "stdout",
     "output_type": "stream",
     "text": [
      "===========The way to visit shaoe of dataframe=========\n",
      "torch.Size([197, 904])\n",
      "torch.Size([197, 161])\n",
      "============Visit sample label===========\n",
      "{'clin': tensor([0., 0., 1., 1., 1., 0., 0., 0., 1., 0., 1., 0., 1., 0., 0., 0., 0., 0.,\n",
      "        1., 0., 0., 1., 0., 0., 0., 1., 1., 1., 1., 0., 1., 0., 0., 0., 1., 0.,\n",
      "        0., 1., 1., 0., 1., 0., 0., 0., 0., 0., 1., 0., 0., 0., 0., 1., 1., 0.,\n",
      "        1., 0., 1., 0., 1., 1., 0., 0., 1., 0., 1., 0., 0., 1., 0., 0., 0., 1.,\n",
      "        1., 1., 0., 1., 0., 0., 1., 1., 0., 0., 1., 1., 0., 1., 1., 0., 1., 0.,\n",
      "        1., 1., 0., 1., 0., 1., 1., 0., 1., 0., 0., 1., 1., 1., 1., 0., 1., 0.,\n",
      "        0., 0., 1., 0., 0., 0., 1., 1., 0., 1., 0., 0., 1., 0., 0., 1., 1., 1.,\n",
      "        1., 0., 0., 0., 1., 1., 1., 1., 1., 0., 0., 0., 1., 1., 1., 1., 0., 1.,\n",
      "        1., 1., 1., 1., 1., 0., 1., 1., 1., 1., 0., 1., 0., 0., 0., 1., 1., 1.,\n",
      "        0., 1., 0., 1., 1., 0., 0., 0., 0., 1., 0., 0., 0., 1., 0., 0., 1., 0.,\n",
      "        1., 0., 1., 1., 0., 0., 1., 0., 0., 0., 1., 1., 0., 0., 0., 0., 0.],\n",
      "       dtype=torch.float64)}\n",
      "============How the index and columns are stored=========\n",
      "['ID_179', 'ID_87', 'ID_239', 'ID_349', 'ID_146', 'ID_48', 'ID_301', 'ID_332', 'ID_244'] {'BM': Index(['BM0001_BM', 'BM0002_BM', 'BM0003_BM', 'BM0004_BM', 'BM0005_BM',\n",
      "       'BM0006_BM', 'BM0007_BM', 'BM0008_BM', 'BM0009_BM', 'BM0010_BM',\n",
      "       ...\n",
      "       'BM0153_BM', 'BM0154_BM', 'BM0155_BM', 'BM0156_BM', 'BM0157_BM',\n",
      "       'BM0159_BM', 'BM0160_BM', 'BM0161_BM', 'BM0162_BM', 'BM0163_BM'],\n",
      "      dtype='object', length=161), 'HDF': Index(['HDF38768_HDF', 'HDF38296_HDF', 'HDF57814_HDF', 'HDF48762_HDF',\n",
      "       'HDF52603_HDF', 'HDF19130_HDF', 'HDF34404_HDF', 'HDF32391_HDF',\n",
      "       'HDF20675_HDF', 'HDF21049_HDF',\n",
      "       ...\n",
      "       'HDF57756_HDF', 'HDF62151_HDF', 'HDF62494_HDF', 'HDF62496_HDF',\n",
      "       'HDF62500_HDF', 'HDF62636_HDF', 'HDF62664_HDF', 'HDF62716_HDF',\n",
      "       'HDF62719_HDF', 'HDF62876_HDF'],\n",
      "      dtype='object', length=904), 'LD': Index(['CE(12:0)_LD', 'CE(14:0)_LD', 'CE(14:1)_LD', 'CE(15:0)_LD',\n",
      "       'CE(16:0)_LD', 'CE(16:1)_LD', 'CE(17:0)_LD', 'CE(18:0)_LD',\n",
      "       'CE(18:1)_LD', 'CE(18:2)_LD',\n",
      "       ...\n",
      "       'HCER_LD', 'LCER_LD', 'LPC_LD', 'LPE_LD', 'MAG_LD', 'PC.y_LD', 'PE_LD',\n",
      "       'PI_LD', 'SM.y_LD', 'TAG_LD'],\n",
      "      dtype='object', length=1149), 'PM': Index(['PM43027_PM', 'PM11953_PM', 'PM38002_PM', 'PM34404_PM', 'PM35963_PM',\n",
      "       'PM35728_PM', 'PM20675_PM', 'PM34400_PM', 'PM33228_PM', 'PM35186_PM',\n",
      "       ...\n",
      "       'PM42299_PM', 'PM42307_PM', 'PM42314_PM', 'PM42544_PM', 'PM42548_PM',\n",
      "       'PM42554_PM', 'PM42856_PM', 'PM42887_PM', 'PM42913_PM', 'PM42914_PM'],\n",
      "      dtype='object', length=501)}\n",
      "============summary of ech block & metadata==================\n",
      "{'BM': tensor([[ 0.7244, -0.7999, -0.9116,  ...,  0.5783, -0.0286, -0.3921],\n",
      "        [-0.8425, -0.3017, -0.2035,  ..., -1.0764, -1.6192,  1.3392],\n",
      "        [ 0.5983, -0.3666,  0.4115,  ..., -0.2572, -0.4588, -0.6412],\n",
      "        ...,\n",
      "        [-1.2590, -1.0301, -1.2336,  ..., -1.2292, -1.2910,  1.1953],\n",
      "        [-0.2952, -1.1122, -0.7613,  ..., -0.6329, -0.1708,  1.1180],\n",
      "        [-0.1370, -0.4659, -0.2743,  ...,  1.0087,  1.7485, -0.6602]]), 'HDF': tensor([[-0.4375, -0.9136,  0.0808,  ..., -0.1905,  0.6497, -0.7119],\n",
      "        [ 1.7515,  2.1941, -1.4208,  ..., -0.3878, -0.0818,  0.1252],\n",
      "        [-0.7259, -0.9204, -1.1337,  ..., -0.4287, -0.6871, -0.5600],\n",
      "        ...,\n",
      "        [-0.6247, -0.1299,  0.5751,  ..., -0.9336,  1.7066, -1.1467],\n",
      "        [-1.3152, -0.3818,  1.2362,  ..., -0.1748,  0.3306, -0.4268],\n",
      "        [ 1.6603,  0.9530,  0.0650,  ..., -1.2593, -0.8504, -0.6401]]), 'LD': tensor([[ 1.4073e+00,  2.3206e+00,  2.1417e+00,  ..., -2.8866e-02,\n",
      "          2.1153e-01,  7.9733e-01],\n",
      "        [-1.0608e+00, -7.9503e-01, -8.6314e-03,  ..., -5.4189e-01,\n",
      "         -1.0347e+00,  7.2440e-01],\n",
      "        [ 1.4584e+00,  2.6729e-02, -3.5503e-01,  ..., -7.3917e-01,\n",
      "         -8.0000e-01,  1.1807e+00],\n",
      "        ...,\n",
      "        [-5.6033e-01,  8.5538e-01,  9.6849e-01,  ...,  7.2560e-01,\n",
      "         -1.3070e-03,  1.4352e-01],\n",
      "        [ 4.2180e-01, -1.2766e-01, -4.0914e-01,  ...,  1.9455e+00,\n",
      "          1.2600e+00, -9.9437e-01],\n",
      "        [ 4.7449e-01,  7.4241e-01,  4.6846e-01,  ..., -1.4325e-02,\n",
      "          1.5046e+00, -1.7107e+00]]), 'PM': tensor([[-0.6524,  3.7734,  3.3459,  ...,  0.7976,  0.8762,  0.1536],\n",
      "        [-0.0957,  0.1668,  2.9165,  ...,  0.3781, -0.4475,  0.5406],\n",
      "        [ 0.1145,  0.3640, -0.5789,  ...,  0.0239,  0.4662, -0.1330],\n",
      "        ...,\n",
      "        [-1.0285,  1.0560, -0.5728,  ..., -0.2724, -1.6887, -0.4609],\n",
      "        [-1.4537, -0.6905, -0.3481,  ..., -1.1066, -0.1855, -0.1825],\n",
      "        [ 0.6399,  0.3639, -0.5783,  ..., -0.4438, -0.0889, -1.3310]])}\n",
      "Summary for variable: clin\n",
      "Categorical Variable Summary:\n",
      "  Label: DM, Count: 104\n",
      "  Label: nonDM, Count: 93\n",
      "------\n"
     ]
    }
   ],
   "source": [
    "print(\"===========The way to visit shaoe of dataframe=========\")\n",
    "print(train_dataset.dat['HDF'].shape)  # 输出你的 HDF 数据矩阵形状\n",
    "print(train_dataset.dat['BM'].shape)  \n",
    "\n",
    "print(\"============Visit sample label===========\")\n",
    "print(train_dataset.ann)\n",
    "\n",
    "print(\"============How the index and columns are stored=========\")\n",
    "print(train_dataset.samples[1:10], train_dataset.features)\n",
    "\n",
    "print(\"============summary of ech block & metadata==================\")\n",
    "print(train_dataset.dat)\n",
    "flexynesis.print_summary_stats(train_dataset)"
   ]
  },
  {
   "cell_type": "markdown",
   "id": "ace5365e-f0fe-48d1-954c-adb0cdad453c",
   "metadata": {},
   "source": [
    "# Training flexynesis models\n",
    "\n",
    "## input _init_()\n",
    "* dataset: the training dataset (as we constructed above)\n",
    "* model_class: which model architecture to use:\n",
    "    a) DirectPred: a fully connected network (standard multilayer perceptron) with supervisor heads (one MLP for each target variable) \n",
    "    b) Supervised Variational Autoencoder: A variational autoencoder (MMD-loss) with supervisor heads (one MLP for each target variable) \n",
    "    c) MultiTripletNetwork: A network structured in triplets to enable contrastive learning (using triplet loss) and additiona supervisor heads (one MLP for each target variable)\n",
    "* target_variables: A comma separated list of target variables (specify the column headers from the clin.csv). One MLP per each target variable will be created.\n",
    "The target variables may contain NA values\n",
    "* config_name: which hyperparameter search space configuration to use.\n",
    "* n_iter: How many hyperparameter search steps to implement.\n",
    "简单说明： 尝试不同的超参数组合（n_iter），返回表现最好的模型\n",
    "\n",
    "## HPO & fine-tuning to train paremeters\n",
    "using  basiyan  optimizer to search the best paremeter\n",
    "using objective(loss function) to assess the performance\n",
    "allow early stopping to speed up the searching(hpo_patience)\n",
    "* loss function:\n",
    "          y_hat = outputs[var]\r",
    "           y = y_dict[var]\r\n",
    "          loss = self.compute_loss(var, y, y_hatn* fine-tuning: g\n",
    "using K-fold validation , using different learning rate and freeze different parts\n",
    "\n",
    "## DirectPred modeg\n"
   ]
  },
  {
   "cell_type": "code",
   "execution_count": 21,
   "id": "9f162f6e-b6ad-4729-addc-43af60139ca4",
   "metadata": {},
   "outputs": [
    {
     "name": "stdout",
     "output_type": "stream",
     "text": [
      "C:\\Users\\laura\\OneDrive - Imperial College London\\project 2\\Coding\\New models\\package\\flexynesis\\flexynesis\\main.py\n",
      "C:\\Users\\laura\\OneDrive - Imperial College London\\project 2\\Coding\\New models\\package\\flexynesis\\flexynesis\\models\\direct_pred.py\n"
     ]
    }
   ],
   "source": [
    "print(inspect.getfile(flexynesis.HyperparameterTuning.perform_tuning))\n",
    "print(inspect.getfile(flexynesis.models.direct_pred.DirectPred))"
   ]
  },
  {
   "cell_type": "code",
   "execution_count": 39,
   "id": "c11b6714-13ce-4e44-97c6-ba6f9bf056d4",
   "metadata": {},
   "outputs": [
    {
     "data": {
      "image/png": "[encoded data removed]",
      "text/plain": [
       "<Figure size 800x600 with 1 Axes>"
      ]
     },
     "metadata": {},
     "output_type": "display_data"
    },
    {
     "data": {
      "application/vnd.jupyter.widget-view+json": {
       "model_id": "195b75f5d880444db51618f222490a96",
       "version_major": 2,
       "version_minor": 0
      },
      "text/plain": [
       "Validation: |          | 0/? [00:00<?, ?it/s]"
      ]
     },
     "metadata": {},
     "output_type": "display_data"
    },
    {
     "data": {
      "text/html": [
       "<pre style=\"white-space:pre;overflow-x:auto;line-height:normal;font-family:Menlo,'DejaVu Sans Mono',consolas,'Courier New',monospace\">┏━━━━━━━━━━━━━━━━━━━━━━━━━━━┳━━━━━━━━━━━━━━━━━━━━━━━━━━━┓\n",
       "┃<span style=\"font-weight: bold\">      Validate metric      </span>┃<span style=\"font-weight: bold\">       DataLoader 0        </span>┃\n",
       "┡━━━━━━━━━━━━━━━━━━━━━━━━━━━╇━━━━━━━━━━━━━━━━━━━━━━━━━━━┩\n",
       "│<span style=\"color: #008080; text-decoration-color: #008080\">           clin            </span>│<span style=\"color: #800080; text-decoration-color: #800080\">    0.3766404688358307     </span>│\n",
       "│<span style=\"color: #008080; text-decoration-color: #008080\">         val_loss          </span>│<span style=\"color: #800080; text-decoration-color: #800080\">    0.3766404688358307     </span>│\n",
       "└───────────────────────────┴───────────────────────────┘\n",
       "</pre>\n"
      ],
      "text/plain": [
       "┏━━━━━━━━━━━━━━━━━━━━━━━━━━━┳━━━━━━━━━━━━━━━━━━━━━━━━━━━┓\n",
       "┃\u001b[1m \u001b[0m\u001b[1m     Validate metric     \u001b[0m\u001b[1m \u001b[0m┃\u001b[1m \u001b[0m\u001b[1m      DataLoader 0       \u001b[0m\u001b[1m \u001b[0m┃\n",
       "┡━━━━━━━━━━━━━━━━━━━━━━━━━━━╇━━━━━━━━━━━━━━━━━━━━━━━━━━━┩\n",
       "│\u001b[36m \u001b[0m\u001b[36m          clin           \u001b[0m\u001b[36m \u001b[0m│\u001b[35m \u001b[0m\u001b[35m   0.3766404688358307    \u001b[0m\u001b[35m \u001b[0m│\n",
       "│\u001b[36m \u001b[0m\u001b[36m        val_loss         \u001b[0m\u001b[36m \u001b[0m│\u001b[35m \u001b[0m\u001b[35m   0.3766404688358307    \u001b[0m\u001b[35m \u001b[0m│\n",
       "└───────────────────────────┴───────────────────────────┘\n"
      ]
     },
     "metadata": {},
     "output_type": "display_data"
    },
    {
     "name": "stderr",
     "output_type": "stream",
     "text": [
      "Tuning Progress: 100%|██████████| 25/25 [1:30:58<00:00, 218.33s/it, Iteration=25, Best Loss=0.322]"
     ]
    },
    {
     "name": "stdout",
     "output_type": "stream",
     "text": [
      "[INFO] current best val loss: 0.32173243165016174; best params: {'latent_dim': 28, 'hidden_dim_factor': 0.2, 'lr': 0.005964458198037307, 'supervisor_hidden_dim': 14, 'epochs': 500, 'batch_size': 64} since 4 hpo iterations\n"
     ]
    },
    {
     "name": "stderr",
     "output_type": "stream",
     "text": [
      "\n"
     ]
    }
   ],
   "source": [
    "# early stopping -  tune the best parameters\n",
    "tuner = flexynesis.HyperparameterTuning(\n",
    "    dataset = train_dataset,                # 训练用的数据集\n",
    "    model_class = flexynesis.DirectPred,   # 用哪种模型结构，这里是简单的全连接网络\n",
    "    target_variables = [\"clin\"],# 你想预测哪个变量\n",
    "    config_name = \"DirectPred\",             # 调参用的配置名称（超参数空间）\n",
    "    n_iter=25,                              # 只跑1次超参数搜索（调1组参数）\n",
    "    plot_losses=True,                      # 打开训练过程的loss打印\n",
    "    early_stop_patience=5                 # 如果10轮没改进，就停训练\n",
    ")\n",
    "\n",
    "model, best_params = tuner.perform_tuning()  # 执行超参数调优，返回最佳模型和参数\n"
   ]
  },
  {
   "cell_type": "code",
   "execution_count": 41,
   "id": "b49a3768-8508-4fb9-b19e-adf56eac0d3f",
   "metadata": {},
   "outputs": [
    {
     "data": {
      "text/plain": [
       "DirectPred(\n",
       "  (log_vars): ParameterDict(  (clin): Parameter containing: [torch.FloatTensor of size 1])\n",
       "  (encoders): ModuleList(\n",
       "    (0): MLP(\n",
       "      (layer_1): Linear(in_features=1149, out_features=229, bias=True)\n",
       "      (layer_out): Linear(in_features=229, out_features=28, bias=True)\n",
       "      (relu): ReLU()\n",
       "      (dropout): Dropout(p=0.1, inplace=False)\n",
       "      (batchnorm): BatchNorm1d(229, eps=1e-05, momentum=0.1, affine=True, track_running_stats=True)\n",
       "    )\n",
       "    (1): MLP(\n",
       "      (layer_1): Linear(in_features=161, out_features=32, bias=True)\n",
       "      (layer_out): Linear(in_features=32, out_features=28, bias=True)\n",
       "      (relu): ReLU()\n",
       "      (dropout): Dropout(p=0.1, inplace=False)\n",
       "      (batchnorm): BatchNorm1d(32, eps=1e-05, momentum=0.1, affine=True, track_running_stats=True)\n",
       "    )\n",
       "    (2): MLP(\n",
       "      (layer_1): Linear(in_features=501, out_features=100, bias=True)\n",
       "      (layer_out): Linear(in_features=100, out_features=28, bias=True)\n",
       "      (relu): ReLU()\n",
       "      (dropout): Dropout(p=0.1, inplace=False)\n",
       "      (batchnorm): BatchNorm1d(100, eps=1e-05, momentum=0.1, affine=True, track_running_stats=True)\n",
       "    )\n",
       "    (3): MLP(\n",
       "      (layer_1): Linear(in_features=904, out_features=180, bias=True)\n",
       "      (layer_out): Linear(in_features=180, out_features=28, bias=True)\n",
       "      (relu): ReLU()\n",
       "      (dropout): Dropout(p=0.1, inplace=False)\n",
       "      (batchnorm): BatchNorm1d(180, eps=1e-05, momentum=0.1, affine=True, track_running_stats=True)\n",
       "    )\n",
       "  )\n",
       "  (fusion_block): Linear(in_features=112, out_features=28, bias=True)\n",
       "  (MLPs): ModuleDict(\n",
       "    (clin): MLP(\n",
       "      (layer_1): Linear(in_features=28, out_features=14, bias=True)\n",
       "      (layer_out): Linear(in_features=14, out_features=2, bias=True)\n",
       "      (relu): ReLU()\n",
       "      (dropout): Dropout(p=0.1, inplace=False)\n",
       "      (batchnorm): BatchNorm1d(14, eps=1e-05, momentum=0.1, affine=True, track_running_stats=True)\n",
       "    )\n",
       "  )\n",
       ")"
      ]
     },
     "execution_count": 41,
     "metadata": {},
     "output_type": "execute_result"
    }
   ],
   "source": [
    "model"
   ]
  },
  {
   "cell_type": "code",
   "execution_count": 43,
   "id": "4a167b7b-5dec-4512-9a12-d5d4869c8b39",
   "metadata": {},
   "outputs": [
    {
     "data": {
      "text/plain": [
       "{'latent_dim': 28,\n",
       " 'hidden_dim_factor': 0.2,\n",
       " 'lr': 0.005964458198037307,\n",
       " 'supervisor_hidden_dim': 14,\n",
       " 'epochs': 29,\n",
       " 'batch_size': 64}"
      ]
     },
     "execution_count": 43,
     "metadata": {},
     "output_type": "execute_result"
    }
   ],
   "source": [
    "best_params"
   ]
  },
  {
   "cell_type": "code",
   "execution_count": 47,
   "id": "be00cb0c-b7da-44d5-b994-92d5b9a13bd8",
   "metadata": {},
   "outputs": [
    {
     "ename": "NameError",
     "evalue": "name 'best_params_path' is not defined",
     "output_type": "error",
     "traceback": [
      "\u001b[31m---------------------------------------------------------------------------\u001b[39m",
      "\u001b[31mNameError\u001b[39m                                 Traceback (most recent call last)",
      "\u001b[36mCell\u001b[39m\u001b[36m \u001b[39m\u001b[32mIn[47]\u001b[39m\u001b[32m, line 31\u001b[39m\n\u001b[32m     27\u001b[39m         \u001b[38;5;28;01mreturn\u001b[39;00m obj\n\u001b[32m     29\u001b[39m best_params_clean = convert_numpy_types(best_params)\n\u001b[32m---> \u001b[39m\u001b[32m31\u001b[39m \u001b[38;5;28;01mwith\u001b[39;00m \u001b[38;5;28mopen\u001b[39m(\u001b[43mbest_params_path\u001b[49m, \u001b[33m'\u001b[39m\u001b[33mw\u001b[39m\u001b[33m'\u001b[39m) \u001b[38;5;28;01mas\u001b[39;00m f:\n\u001b[32m     32\u001b[39m     json.dump(best_params_clean, f)\n",
      "\u001b[31mNameError\u001b[39m: name 'best_params_path' is not defined"
     ]
    }
   ],
   "source": [
    "import os\n",
    "import json\n",
    "import torch\n",
    "\n",
    "prefix = \"4 blocks_model\"  # 这里写你自己定义的名字\n",
    "save_dir = r\"C:\\Users\\laura\\OneDrive - Imperial College London\\project 2\\Coding\\New models\\package\\flexynesis\\flexynesis\\models\\model parameters\"\n",
    "\n",
    "filename = f\"{prefix}_final_model.pth\"\n",
    "save_path = os.path.join(save_dir, filename)\n",
    "\n",
    "# 保存模型\n",
    "torch.save(model, save_path)\n",
    "\n",
    "import numpy as np\n",
    "\n",
    "# 假设 best_params 是 dict，里面有 numpy 类型\n",
    "def convert_numpy_types(obj):\n",
    "    if isinstance(obj, dict):\n",
    "        return {k: convert_numpy_types(v) for k, v in obj.items()}\n",
    "    elif isinstance(obj, list):\n",
    "        return [convert_numpy_types(i) for i in obj]\n",
    "    elif isinstance(obj, (np.integer,)):\n",
    "        return int(obj)\n",
    "    elif isinstance(obj, (np.floating,)):\n",
    "        return float(obj)\n",
    "    else:\n",
    "        return obj\n",
    "\n",
    "best_params_clean = convert_numpy_types(best_params)\n",
    "\n",
    "with open(best_params_path, 'w') as f:\n",
    "    json.dump(best_params_clean, f)\n"
   ]
  },
  {
   "cell_type": "code",
   "execution_count": 21,
   "id": "fc29ac45-ae77-42a2-aba9-4560ce7f0ba6",
   "metadata": {},
   "outputs": [
    {
     "data": {
      "text/plain": [
       "DirectPred(\n",
       "  (log_vars): ParameterDict(  (clin): Parameter containing: [torch.FloatTensor of size 1])\n",
       "  (encoders): ModuleList(\n",
       "    (0): MLP(\n",
       "      (layer_1): Linear(in_features=161, out_features=47, bias=True)\n",
       "      (layer_out): Linear(in_features=47, out_features=21, bias=True)\n",
       "      (relu): ReLU()\n",
       "      (dropout): Dropout(p=0.1, inplace=False)\n",
       "      (batchnorm): BatchNorm1d(47, eps=1e-05, momentum=0.1, affine=True, track_running_stats=True)\n",
       "    )\n",
       "    (1): MLP(\n",
       "      (layer_1): Linear(in_features=904, out_features=267, bias=True)\n",
       "      (layer_out): Linear(in_features=267, out_features=21, bias=True)\n",
       "      (relu): ReLU()\n",
       "      (dropout): Dropout(p=0.1, inplace=False)\n",
       "      (batchnorm): BatchNorm1d(267, eps=1e-05, momentum=0.1, affine=True, track_running_stats=True)\n",
       "    )\n",
       "    (2): MLP(\n",
       "      (layer_1): Linear(in_features=1149, out_features=339, bias=True)\n",
       "      (layer_out): Linear(in_features=339, out_features=21, bias=True)\n",
       "      (relu): ReLU()\n",
       "      (dropout): Dropout(p=0.1, inplace=False)\n",
       "      (batchnorm): BatchNorm1d(339, eps=1e-05, momentum=0.1, affine=True, track_running_stats=True)\n",
       "    )\n",
       "    (3): MLP(\n",
       "      (layer_1): Linear(in_features=501, out_features=148, bias=True)\n",
       "      (layer_out): Linear(in_features=148, out_features=21, bias=True)\n",
       "      (relu): ReLU()\n",
       "      (dropout): Dropout(p=0.1, inplace=False)\n",
       "      (batchnorm): BatchNorm1d(148, eps=1e-05, momentum=0.1, affine=True, track_running_stats=True)\n",
       "    )\n",
       "  )\n",
       "  (fusion_block): Linear(in_features=84, out_features=21, bias=True)\n",
       "  (MLPs): ModuleDict(\n",
       "    (clin): MLP(\n",
       "      (layer_1): Linear(in_features=21, out_features=32, bias=True)\n",
       "      (layer_out): Linear(in_features=32, out_features=2, bias=True)\n",
       "      (relu): ReLU()\n",
       "      (dropout): Dropout(p=0.1, inplace=False)\n",
       "      (batchnorm): BatchNorm1d(32, eps=1e-05, momentum=0.1, affine=True, track_running_stats=True)\n",
       "    )\n",
       "  )\n",
       ")"
      ]
     },
     "execution_count": 21,
     "metadata": {},
     "output_type": "execute_result"
    }
   ],
   "source": [
    "import torch\n",
    "import json\n",
    "import os\n",
    "\n",
    "model_path = r\"C:\\Users\\laura\\OneDrive - Imperial College London\\project 2\\Coding\\New models\\package\\flexynesis\\flexynesis\\models\\model parameters\\4 blocks_model_final_model.pth\"\n",
    "model = torch.load(model_path, weights_only=False)\n",
    "model.eval()  # 切换到评估模式（如果有必要）"
   ]
  },
  {
   "cell_type": "markdown",
   "id": "a144d1f1-3ef3-4e29-a58e-901d5e023e7d",
   "metadata": {},
   "source": [
    "# Prediction and model evaluation"
   ]
  },
  {
   "cell_type": "code",
   "execution_count": 49,
   "id": "f2b5551d-70a3-40bb-8847-d6cfad3d650f",
   "metadata": {
    "scrolled": true
   },
   "outputs": [
    {
     "data": {
      "text/plain": [
       "{'clin': array([[3.33125830e-01, 6.66874170e-01],\n",
       "        [3.66168141e-01, 6.33831859e-01],\n",
       "        [9.43857610e-01, 5.61423786e-02],\n",
       "        [8.10649157e-01, 1.89350814e-01],\n",
       "        [9.61455047e-01, 3.85449342e-02],\n",
       "        [9.91249204e-01, 8.75073392e-03],\n",
       "        [9.84814525e-01, 1.51853962e-02],\n",
       "        [9.52411950e-01, 4.75880243e-02],\n",
       "        [6.71934262e-02, 9.32806551e-01],\n",
       "        [1.46644993e-03, 9.98533487e-01],\n",
       "        [1.47662626e-03, 9.98523414e-01],\n",
       "        [9.99532342e-01, 4.67651553e-04],\n",
       "        [1.08216638e-02, 9.89178300e-01],\n",
       "        [7.44778803e-03, 9.92552280e-01],\n",
       "        [1.51700643e-03, 9.98483002e-01],\n",
       "        [9.65035737e-01, 3.49643044e-02],\n",
       "        [9.60805237e-01, 3.91947553e-02],\n",
       "        [9.89730954e-01, 1.02690337e-02],\n",
       "        [6.59579877e-03, 9.93404210e-01],\n",
       "        [2.09474517e-03, 9.97905254e-01],\n",
       "        [5.94030917e-01, 4.05969083e-01],\n",
       "        [3.91861744e-04, 9.99608219e-01],\n",
       "        [9.81374085e-01, 1.86259691e-02],\n",
       "        [8.88768137e-01, 1.11231901e-01],\n",
       "        [3.47432564e-03, 9.96525705e-01],\n",
       "        [2.62987409e-02, 9.73701298e-01],\n",
       "        [9.78528321e-01, 2.14716792e-02],\n",
       "        [9.99313354e-01, 6.86636893e-04],\n",
       "        [1.91948544e-02, 9.80805159e-01],\n",
       "        [9.85986114e-01, 1.40138613e-02],\n",
       "        [2.81608365e-02, 9.71839190e-01],\n",
       "        [7.98556745e-01, 2.01443240e-01],\n",
       "        [9.92787659e-01, 7.21238600e-03],\n",
       "        [9.71467257e-01, 2.85327565e-02],\n",
       "        [9.41578150e-01, 5.84218353e-02],\n",
       "        [6.11480176e-01, 3.88519764e-01],\n",
       "        [9.93858159e-01, 6.14179904e-03],\n",
       "        [9.98308539e-01, 1.69148750e-03],\n",
       "        [4.47982512e-02, 9.55201685e-01],\n",
       "        [9.75111783e-01, 2.48881541e-02],\n",
       "        [9.34602082e-01, 6.53978810e-02],\n",
       "        [1.54242264e-02, 9.84575748e-01],\n",
       "        [1.12072937e-02, 9.88792717e-01],\n",
       "        [9.98282671e-01, 1.71740924e-03],\n",
       "        [2.26943791e-02, 9.77305651e-01],\n",
       "        [9.99658227e-01, 3.41750536e-04],\n",
       "        [9.96830165e-01, 3.16981273e-03],\n",
       "        [3.49756368e-02, 9.65024292e-01],\n",
       "        [2.42102575e-02, 9.75789785e-01],\n",
       "        [9.78762567e-01, 2.12373976e-02],\n",
       "        [2.15652555e-01, 7.84347415e-01],\n",
       "        [3.25464853e-03, 9.96745348e-01],\n",
       "        [1.53237698e-03, 9.98467624e-01],\n",
       "        [1.00694771e-03, 9.98993099e-01],\n",
       "        [9.81574595e-01, 1.84254572e-02],\n",
       "        [9.65785146e-01, 3.42148244e-02],\n",
       "        [6.72266707e-02, 9.32773352e-01],\n",
       "        [9.94479537e-01, 5.52039873e-03],\n",
       "        [4.58639972e-02, 9.54135954e-01],\n",
       "        [9.82141972e-01, 1.78580955e-02],\n",
       "        [7.55347550e-01, 2.44652450e-01],\n",
       "        [9.90606308e-01, 9.39365011e-03],\n",
       "        [9.83704269e-01, 1.62957590e-02],\n",
       "        [9.28698421e-01, 7.13015869e-02],\n",
       "        [9.80947196e-01, 1.90528799e-02],\n",
       "        [1.25732601e-01, 8.74267399e-01],\n",
       "        [8.86176407e-01, 1.13823555e-01],\n",
       "        [9.54067826e-01, 4.59321998e-02],\n",
       "        [1.38385976e-02, 9.86161351e-01],\n",
       "        [8.52662146e-01, 1.47337794e-01],\n",
       "        [2.29027215e-03, 9.97709751e-01],\n",
       "        [2.25929707e-01, 7.74070323e-01],\n",
       "        [9.95444059e-01, 4.55590151e-03],\n",
       "        [5.37395597e-01, 4.62604433e-01],\n",
       "        [8.41016974e-03, 9.91589844e-01],\n",
       "        [9.96277392e-01, 3.72257316e-03],\n",
       "        [6.41193241e-02, 9.35880661e-01],\n",
       "        [6.39214814e-02, 9.36078548e-01],\n",
       "        [1.46351933e-01, 8.53648007e-01],\n",
       "        [9.89398599e-01, 1.06014339e-02],\n",
       "        [1.13105059e-01, 8.86894941e-01],\n",
       "        [1.05611114e-02, 9.89438832e-01],\n",
       "        [9.88002300e-01, 1.19976811e-02],\n",
       "        [9.97152448e-01, 2.84748594e-03],\n",
       "        [1.10251591e-01, 8.89748454e-01]], dtype=float32)}"
      ]
     },
     "execution_count": 49,
     "metadata": {},
     "output_type": "execute_result"
    }
   ],
   "source": [
    "y_pred_dict = model.predict(test_dataset)\n",
    "y_pred_dict"
   ]
  },
  {
   "cell_type": "code",
   "execution_count": 51,
   "id": "54d952b4-d182-4982-b8a9-1417b616014e",
   "metadata": {},
   "outputs": [
    {
     "name": "stdout",
     "output_type": "stream",
     "text": [
      "C:\\Users\\laura\\OneDrive - Imperial College London\\project 2\\Coding\\New models\\package\\flexynesis\\flexynesis\\utils.py\n"
     ]
    }
   ],
   "source": [
    "print(inspect.getfile(flexynesis.evaluate_wrapper))"
   ]
  },
  {
   "cell_type": "code",
   "execution_count": 53,
   "id": "d7049ce8-c34d-47cb-96d0-540b5ebd68f7",
   "metadata": {},
   "outputs": [
    {
     "name": "stdout",
     "output_type": "stream",
     "text": [
      "⚠️ Warning: All variables are forcibly treated as categorical during evaluation.\n"
     ]
    },
    {
     "data": {
      "text/html": [
       "<div>\n",
       "<style scoped>\n",
       "    .dataframe tbody tr th:only-of-type {\n",
       "        vertical-align: middle;\n",
       "    }\n",
       "\n",
       "    .dataframe tbody tr th {\n",
       "        vertical-align: top;\n",
       "    }\n",
       "\n",
       "    .dataframe thead th {\n",
       "        text-align: right;\n",
       "    }\n",
       "</style>\n",
       "<table border=\"1\" class=\"dataframe\">\n",
       "  <thead>\n",
       "    <tr style=\"text-align: right;\">\n",
       "      <th></th>\n",
       "      <th>method</th>\n",
       "      <th>var</th>\n",
       "      <th>variable_type</th>\n",
       "      <th>metric</th>\n",
       "      <th>value</th>\n",
       "    </tr>\n",
       "  </thead>\n",
       "  <tbody>\n",
       "    <tr>\n",
       "      <th>0</th>\n",
       "      <td>DirectPred</td>\n",
       "      <td>clin</td>\n",
       "      <td>categorical</td>\n",
       "      <td>balanced_acc</td>\n",
       "      <td>0.916109</td>\n",
       "    </tr>\n",
       "    <tr>\n",
       "      <th>1</th>\n",
       "      <td>DirectPred</td>\n",
       "      <td>clin</td>\n",
       "      <td>categorical</td>\n",
       "      <td>f1_score</td>\n",
       "      <td>0.917555</td>\n",
       "    </tr>\n",
       "    <tr>\n",
       "      <th>2</th>\n",
       "      <td>DirectPred</td>\n",
       "      <td>clin</td>\n",
       "      <td>categorical</td>\n",
       "      <td>kappa</td>\n",
       "      <td>0.833845</td>\n",
       "    </tr>\n",
       "    <tr>\n",
       "      <th>3</th>\n",
       "      <td>DirectPred</td>\n",
       "      <td>clin</td>\n",
       "      <td>categorical</td>\n",
       "      <td>average_auroc</td>\n",
       "      <td>0.965998</td>\n",
       "    </tr>\n",
       "    <tr>\n",
       "      <th>4</th>\n",
       "      <td>DirectPred</td>\n",
       "      <td>clin</td>\n",
       "      <td>categorical</td>\n",
       "      <td>average_aupr</td>\n",
       "      <td>0.955006</td>\n",
       "    </tr>\n",
       "  </tbody>\n",
       "</table>\n",
       "</div>"
      ],
      "text/plain": [
       "       method   var variable_type         metric     value\n",
       "0  DirectPred  clin   categorical   balanced_acc  0.916109\n",
       "1  DirectPred  clin   categorical       f1_score  0.917555\n",
       "2  DirectPred  clin   categorical          kappa  0.833845\n",
       "3  DirectPred  clin   categorical  average_auroc  0.965998\n",
       "4  DirectPred  clin   categorical   average_aupr  0.955006"
      ]
     },
     "execution_count": 53,
     "metadata": {},
     "output_type": "execute_result"
    }
   ],
   "source": [
    "metrics_df = flexynesis.evaluate_wrapper(method = 'DirectPred', y_pred_dict=y_pred_dict, dataset = test_dataset)\n",
    "metrics_df\n",
    "# 函数的逻辑是如果是数值型就使用生存分析或者回归分析，但是我们的0和1其实是分类的变量。\n",
    "# Modify the evaluate_wrapper to get more metrix"
   ]
  },
  {
   "cell_type": "code",
   "execution_count": 33,
   "id": "04f2b1be-31bf-4f03-adce-5b9da6f3ca6a",
   "metadata": {},
   "outputs": [],
   "source": [
    "# feature importance"
   ]
  },
  {
   "cell_type": "code",
   "execution_count": 45,
   "id": "3bb7015b-344f-4f8e-a791-c89b114e42a5",
   "metadata": {},
   "outputs": [
    {
     "data": {
      "text/plain": [
       "'C:\\\\Users\\\\laura\\\\OneDrive - Imperial College London\\\\project 2\\\\Coding\\\\New models\\\\package\\\\flexynesis\\\\flexynesis\\\\models\\\\direct_pred.py'"
      ]
     },
     "execution_count": 45,
     "metadata": {},
     "output_type": "execute_result"
    }
   ],
   "source": [
    "import inspect\n",
    "inspect.getfile(model.compute_feature_importance)"
   ]
  },
  {
   "cell_type": "code",
   "execution_count": null,
   "id": "a91d0b42-6449-465e-8fe3-73c4ac9efc97",
   "metadata": {},
   "outputs": [],
   "source": [
    "# Visualizing the sample embeddings"
   ]
  },
  {
   "cell_type": "code",
   "execution_count": 55,
   "id": "3bc5ce9f-c030-4a04-bea7-1e3f3572c990",
   "metadata": {},
   "outputs": [
    {
     "data": {
      "text/plain": [
       "'C:\\\\Users\\\\laura\\\\OneDrive - Imperial College London\\\\project 2\\\\Coding\\\\New models\\\\package\\\\flexynesis\\\\flexynesis\\\\utils.py'"
      ]
     },
     "execution_count": 55,
     "metadata": {},
     "output_type": "execute_result"
    }
   ],
   "source": []
  },
  {
   "cell_type": "code",
   "execution_count": 49,
   "id": "83318ce5-4652-476f-8632-5264b3988da1",
   "metadata": {},
   "outputs": [
    {
     "data": {
      "image/png": "[encoded data removed]"
     },
     "metadata": {
      "image/png": {
       "height": 480,
       "width": 640
      }
     },
     "output_type": "display_data"
    }
   ],
   "source": [
    "import inspect\n",
    "inspect.getfile(flexynesis.plot_dim_reduced)\n",
    "\n",
    "ds = test_dataset\n",
    "E = model.transform(ds)\n",
    "E.head()\n",
    "\n",
    "f = 'clin'\n",
    "labels = [ds.label_mappings[f][x] for x in ds.ann[f].numpy()] #map the sample labels from numeric vector to initial labels. \n",
    "\n",
    "# flexynesis.plot_dim_reduced(E, labels, color_type = 'categorical', method='pca')\n",
    "flexynesis.plot_dim_reduced(E, labels, color_type = 'categorical', method='umap')"
   ]
  },
  {
   "cell_type": "code",
   "execution_count": null,
   "id": "1d11d3ea-917d-48ef-bfce-5174779de3c9",
   "metadata": {},
   "outputs": [],
   "source": [
    "flexynesis.compute_feature_importance\n",
    "\n",
    "self, dataset, target_var, method=\"IntegratedGradients\", steps_or_samples=5, batch_size=64\n",
    "\n",
    "plot_dim_reduced(matrix, labels, method='pca', color_type='categorical', title=None)"
   ]
  },
  {
   "cell_type": "code",
   "execution_count": 55,
   "id": "a4b59d51-f2fd-4158-8c8d-b04256bf12aa",
   "metadata": {},
   "outputs": [],
   "source": [
    "\n",
    "feature_importance= model.compute_feature_importance(\n",
    "    dataset=test_dataset,\n",
    "    target_var=\"clin\",\n",
    "    method=\"GradientShap\",       #  这里你选择 GradientShap\n",
    "    steps_or_samples=10,         # 可选，控制精度，默认是 5\n",
    "    batch_size=32                # 可选，默认是 64\n",
    ")"
   ]
  },
  {
   "cell_type": "code",
   "execution_count": 57,
   "id": "1ef3bff3-4df1-442b-be1e-59f9f6e4ac9f",
   "metadata": {},
   "outputs": [
    {
     "data": {
      "text/html": [
       "<div>\n",
       "<style scoped>\n",
       "    .dataframe tbody tr th:only-of-type {\n",
       "        vertical-align: middle;\n",
       "    }\n",
       "\n",
       "    .dataframe tbody tr th {\n",
       "        vertical-align: top;\n",
       "    }\n",
       "\n",
       "    .dataframe thead th {\n",
       "        text-align: right;\n",
       "    }\n",
       "</style>\n",
       "<table border=\"1\" class=\"dataframe\">\n",
       "  <thead>\n",
       "    <tr style=\"text-align: right;\">\n",
       "      <th></th>\n",
       "      <th>target_variable</th>\n",
       "      <th>target_class</th>\n",
       "      <th>target_class_label</th>\n",
       "      <th>layer</th>\n",
       "      <th>name</th>\n",
       "      <th>importance</th>\n",
       "    </tr>\n",
       "  </thead>\n",
       "  <tbody>\n",
       "    <tr>\n",
       "      <th>0</th>\n",
       "      <td>clin</td>\n",
       "      <td>0</td>\n",
       "      <td>DM</td>\n",
       "      <td>LD</td>\n",
       "      <td>CE(12:0)_LD</td>\n",
       "      <td>0.000645</td>\n",
       "    </tr>\n",
       "    <tr>\n",
       "      <th>1</th>\n",
       "      <td>clin</td>\n",
       "      <td>0</td>\n",
       "      <td>DM</td>\n",
       "      <td>LD</td>\n",
       "      <td>CE(14:0)_LD</td>\n",
       "      <td>0.000595</td>\n",
       "    </tr>\n",
       "    <tr>\n",
       "      <th>2</th>\n",
       "      <td>clin</td>\n",
       "      <td>0</td>\n",
       "      <td>DM</td>\n",
       "      <td>LD</td>\n",
       "      <td>CE(14:1)_LD</td>\n",
       "      <td>0.001085</td>\n",
       "    </tr>\n",
       "    <tr>\n",
       "      <th>3</th>\n",
       "      <td>clin</td>\n",
       "      <td>0</td>\n",
       "      <td>DM</td>\n",
       "      <td>LD</td>\n",
       "      <td>CE(15:0)_LD</td>\n",
       "      <td>0.000791</td>\n",
       "    </tr>\n",
       "    <tr>\n",
       "      <th>4</th>\n",
       "      <td>clin</td>\n",
       "      <td>0</td>\n",
       "      <td>DM</td>\n",
       "      <td>LD</td>\n",
       "      <td>CE(16:0)_LD</td>\n",
       "      <td>0.001700</td>\n",
       "    </tr>\n",
       "    <tr>\n",
       "      <th>...</th>\n",
       "      <td>...</td>\n",
       "      <td>...</td>\n",
       "      <td>...</td>\n",
       "      <td>...</td>\n",
       "      <td>...</td>\n",
       "      <td>...</td>\n",
       "    </tr>\n",
       "    <tr>\n",
       "      <th>5425</th>\n",
       "      <td>clin</td>\n",
       "      <td>1</td>\n",
       "      <td>nonDM</td>\n",
       "      <td>HDF</td>\n",
       "      <td>HDF62636_HDF</td>\n",
       "      <td>0.007895</td>\n",
       "    </tr>\n",
       "    <tr>\n",
       "      <th>5426</th>\n",
       "      <td>clin</td>\n",
       "      <td>1</td>\n",
       "      <td>nonDM</td>\n",
       "      <td>HDF</td>\n",
       "      <td>HDF62664_HDF</td>\n",
       "      <td>0.016435</td>\n",
       "    </tr>\n",
       "    <tr>\n",
       "      <th>5427</th>\n",
       "      <td>clin</td>\n",
       "      <td>1</td>\n",
       "      <td>nonDM</td>\n",
       "      <td>HDF</td>\n",
       "      <td>HDF62716_HDF</td>\n",
       "      <td>0.005616</td>\n",
       "    </tr>\n",
       "    <tr>\n",
       "      <th>5428</th>\n",
       "      <td>clin</td>\n",
       "      <td>1</td>\n",
       "      <td>nonDM</td>\n",
       "      <td>HDF</td>\n",
       "      <td>HDF62719_HDF</td>\n",
       "      <td>0.008436</td>\n",
       "    </tr>\n",
       "    <tr>\n",
       "      <th>5429</th>\n",
       "      <td>clin</td>\n",
       "      <td>1</td>\n",
       "      <td>nonDM</td>\n",
       "      <td>HDF</td>\n",
       "      <td>HDF62876_HDF</td>\n",
       "      <td>0.010637</td>\n",
       "    </tr>\n",
       "  </tbody>\n",
       "</table>\n",
       "<p>5430 rows × 6 columns</p>\n",
       "</div>"
      ],
      "text/plain": [
       "     target_variable  target_class target_class_label layer          name  \\\n",
       "0               clin             0                 DM    LD   CE(12:0)_LD   \n",
       "1               clin             0                 DM    LD   CE(14:0)_LD   \n",
       "2               clin             0                 DM    LD   CE(14:1)_LD   \n",
       "3               clin             0                 DM    LD   CE(15:0)_LD   \n",
       "4               clin             0                 DM    LD   CE(16:0)_LD   \n",
       "...              ...           ...                ...   ...           ...   \n",
       "5425            clin             1              nonDM   HDF  HDF62636_HDF   \n",
       "5426            clin             1              nonDM   HDF  HDF62664_HDF   \n",
       "5427            clin             1              nonDM   HDF  HDF62716_HDF   \n",
       "5428            clin             1              nonDM   HDF  HDF62719_HDF   \n",
       "5429            clin             1              nonDM   HDF  HDF62876_HDF   \n",
       "\n",
       "      importance  \n",
       "0       0.000645  \n",
       "1       0.000595  \n",
       "2       0.001085  \n",
       "3       0.000791  \n",
       "4       0.001700  \n",
       "...          ...  \n",
       "5425    0.007895  \n",
       "5426    0.016435  \n",
       "5427    0.005616  \n",
       "5428    0.008436  \n",
       "5429    0.010637  \n",
       "\n",
       "[5430 rows x 6 columns]"
      ]
     },
     "execution_count": 57,
     "metadata": {},
     "output_type": "execute_result"
    }
   ],
   "source": [
    "feature_importance"
   ]
  },
  {
   "cell_type": "code",
   "execution_count": 59,
   "id": "01e259bf-ce92-42f8-9b34-41e955830046",
   "metadata": {},
   "outputs": [
    {
     "name": "stdout",
     "output_type": "stream",
     "text": [
      "  target_variable  target_class target_class_label layer         name  \\\n",
      "0            clin             0                 DM    LD  CE(12:0)_LD   \n",
      "1            clin             0                 DM    LD  CE(14:0)_LD   \n",
      "2            clin             0                 DM    LD  CE(14:1)_LD   \n",
      "3            clin             0                 DM    LD  CE(15:0)_LD   \n",
      "4            clin             0                 DM    LD  CE(16:0)_LD   \n",
      "\n",
      "   importance  \n",
      "0    0.000645  \n",
      "1    0.000595  \n",
      "2    0.001085  \n",
      "3    0.000791  \n",
      "4    0.001700  \n"
     ]
    }
   ],
   "source": []
  },
  {
   "cell_type": "code",
   "execution_count": null,
   "id": "d35158a1-209b-4195-a2ec-fd640ad3dffa",
   "metadata": {},
   "outputs": [],
   "source": []
  }
 ],
 "metadata": {
  "kernelspec": {
   "display_name": "Python (flexynesis)",
   "language": "python",
   "name": "flexynesis"
  },
  "language_info": {
   "codemirror_mode": {
    "name": "ipython",
    "version": 3
   },
   "file_extension": ".py",
   "mimetype": "text/x-python",
   "name": "python",
   "nbconvert_exporter": "python",
   "pygments_lexer": "ipython3",
   "version": "3.11.13"
  }
 },
 "nbformat": 4,
 "nbformat_minor": 5
}
